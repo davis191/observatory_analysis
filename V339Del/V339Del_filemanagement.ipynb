{
 "cells": [
  {
   "cell_type": "markdown",
   "metadata": {},
   "source": [
    "## V339 Del file management"
   ]
  },
  {
   "cell_type": "code",
   "execution_count": 1,
   "metadata": {},
   "outputs": [
    {
     "name": "stdout",
     "output_type": "stream",
     "text": [
      "Total *.txt files in directory: 21 and total files loaded: 21 \n"
     ]
    }
   ],
   "source": [
    "\"\"\"\n",
    "Very specific script to analyze .txt files from various observers.\n",
    "The files had different delimiters, amount of columns, and different amounts of header rows.\n",
    "This script navigates those nuances as best as an hour or so of work would let me!\n",
    "\n",
    "What it needs:\n",
    " - all of the files in the same directory\n",
    " - file not named below? not analyzed\n",
    " - different kind of delimiter? can't help you here!\n",
    " \n",
    "What it does: \n",
    " - reads in the specifically named groups of .txt files\n",
    " - assigns the column names and header row numbers to said groups\n",
    " - groups all of that information in a master list to be iterates and fed into pandas\n",
    " - collects the necessary information in to three arrays (time, Vmag, and Verr)\n",
    " - Saves unsorted and sorted (by time) files under:\n",
    "   V339Del_compiled_sorted.fits\n",
    "   V339Del_compiled_unsorted.fits\n",
    "   V339Del_compiled_sorted.txt\n",
    "  \n",
    "**CURRENTLY MISSING THE TWO DATASETS THAT WERE PLAINTEXT IN EMAIL**\n",
    "\n",
    "written by M. Davis on Aug. 6th 2019 \n",
    "for preparation of timing analysis on V339 Del\n",
    "\"\"\"\n",
    "\n",
    "import pandas as pd\n",
    "import numpy as np\n",
    "from itertools import chain\n",
    "from astropy.table import Table\n",
    "import matplotlib.pyplot as plt\n",
    "%matplotlib inline\n",
    "import glob\n",
    "\n",
    "#total .txt files in directory\n",
    "total = glob.glob('*.txt')\n",
    "\n",
    "#space delimited\n",
    "CBA_MSU_delim = \"\\s+\"\n",
    "\n",
    "CBAReport = glob.glob('CBAReport*.txt')\n",
    "CBAReport_colnames = [\"DATE\", \"VMAG\", \"VERR\",\"Star1\" ,\"Star2\",\"Star3\",\"Airm\",   \"Filter\" ,\\\n",
    "                \"Group \", \"SkyBri.\"  ,\"Expo time\",\"SnapShots\", \"LimitingMagnitude\", \"nope\"] ##'nope' bc there needs 2b a buffer\n",
    "CBAReport_header = 34\n",
    "\n",
    "MSUobs = glob.glob('*measurements.txt')\n",
    "MSUobs_colnames = ['DATE', 'VMAG', 'VERR',  'Airmass']\n",
    "MSUobs_header = 12\n",
    "\n",
    "#  below is an MSUobs one that someone didn't name correctly\n",
    "CBA = glob.glob('*CBA.txt')\n",
    "\n",
    "\n",
    "\n",
    "#comma delimited\n",
    "Ulo_commas_delim = \",\"\n",
    "\n",
    "Ulo = glob.glob('*Ulowetz.txt')\n",
    "Ulo_colnames = ['NAME','DATE','VMAG','VERR','FILTER','TRANS','MTYPE','CNAME','CMAG','KNAME','KMAG', \\\n",
    "                'AIRMASS','GROUP','CHART','NOTES']\n",
    "Ulo_header = 8\n",
    "\n",
    "commas = glob.glob('*commas.txt')\n",
    "commas_colnames = ['NAME','DATE','VMAG','VERR','FILTER','TRANS','MTYPE','CNAME','CMAG','KNAME','KMAG', \\\n",
    "                'AIRMASS','GROUP','CHART','NOTES']\n",
    "commas_header = 9\n",
    "\n",
    "#making a master list with all of the files and information needed to open the files properly\n",
    "filelists = [[[CBAReport, CBAReport_colnames, CBAReport_header], [MSUobs, MSUobs_colnames, MSUobs_header], \\\n",
    "        [CBA, MSUobs_colnames, MSUobs_header]], [[Ulo, Ulo_colnames, Ulo_header], [commas, commas_colnames, commas_header]]]\n",
    "\n",
    "print(\"Total *.txt files in directory: {} and total files loaded: {} \".format(len(total), \\\n",
    "                                                            len(CBA)+len(CBAReport)+len(Ulo)+len(commas)+len(MSUobs)))"
   ]
  },
  {
   "cell_type": "code",
   "execution_count": 2,
   "metadata": {
    "scrolled": true
   },
   "outputs": [
    {
     "name": "stdout",
     "output_type": "stream",
     "text": [
      "loading new dataset\n",
      "appending time\n",
      "appending Vmag\n",
      "appending Verr\n",
      "---------1----------\n",
      "loading new dataset\n",
      "appending time\n",
      "appending Vmag\n",
      "appending Verr\n",
      "---------2----------\n",
      "loading new dataset\n",
      "appending time\n",
      "appending Vmag\n",
      "appending Verr\n",
      "---------3----------\n",
      "loading new dataset\n",
      "appending time\n",
      "appending Vmag\n",
      "appending Verr\n",
      "---------4----------\n",
      "loading new dataset\n",
      "appending time\n",
      "appending Vmag\n",
      "appending Verr\n",
      "---------5----------\n",
      "loading new dataset\n",
      "appending time\n",
      "appending Vmag\n",
      "appending Verr\n",
      "---------6----------\n",
      "loading new dataset\n",
      "appending time\n",
      "appending Vmag\n",
      "appending Verr\n",
      "---------7----------\n",
      "loading new dataset\n",
      "appending time\n",
      "appending Vmag\n",
      "appending Verr\n",
      "---------8----------\n",
      "loading new dataset\n",
      "appending time\n",
      "appending Vmag\n",
      "appending Verr\n",
      "---------9----------\n",
      "loading new dataset\n",
      "appending time\n",
      "appending Vmag\n",
      "appending Verr\n",
      "---------10----------\n",
      "loading new dataset\n",
      "appending time\n",
      "appending Vmag\n",
      "appending Verr\n",
      "---------11----------\n",
      "loading new dataset\n",
      "appending time\n",
      "appending Vmag\n",
      "appending Verr\n",
      "---------12----------\n",
      "loading new dataset\n",
      "appending time\n",
      "appending Vmag\n",
      "appending Verr\n",
      "---------13----------\n",
      "loading new dataset\n",
      "appending time\n",
      "appending Vmag\n",
      "appending Verr\n",
      "---------14----------\n",
      "loading new dataset\n",
      "appending time\n",
      "appending Vmag\n",
      "appending Verr\n",
      "---------15----------\n",
      "loading new dataset\n",
      "appending time\n",
      "appending Vmag\n",
      "appending Verr\n",
      "---------16----------\n",
      "loading new dataset\n",
      "appending time\n",
      "appending Vmag\n",
      "appending Verr\n",
      "---------17----------\n",
      "loading new dataset\n",
      "appending time\n",
      "appending Vmag\n",
      "appending Verr\n",
      "---------18----------\n",
      "loading new dataset\n",
      "appending time\n",
      "appending Vmag\n",
      "appending Verr\n",
      "---------19----------\n",
      "loading new dataset\n",
      "appending time\n",
      "appending Vmag\n",
      "appending Verr\n",
      "---------20----------\n",
      "loading new dataset\n",
      "appending time\n",
      "appending Vmag\n",
      "appending Verr\n",
      "---------21----------\n"
     ]
    }
   ],
   "source": [
    "#it's gonna print stuff, comment it out if you don't want it. I was bored and put it in.\n",
    "\n",
    "#empty arrays, these could be prefilled, but we aren't working with much\n",
    "time = []\n",
    "Vmag= []\n",
    "Verr = []\n",
    "filenum = 1\n",
    "\n",
    "for i in range(len(filelists)):\n",
    "    #choose your delimiter\n",
    "    if i==0:\n",
    "        delim = CBA_MSU_delim\n",
    "    else:\n",
    "        delim = Ulo_commas_delim\n",
    "        \n",
    "    #access each set of files and the corresponding info\n",
    "    for j in range(len(filelists[i])):\n",
    "        for k in filelists[i][j][0]:\n",
    "            print(\"loading new dataset\")\n",
    "            data = pd.read_csv(k ,sep=delim,index_col=False, header=filelists[i][j][2],\\\n",
    "                    names = filelists[i][j][1] )\n",
    "            \n",
    "            print(\"appending time\")\n",
    "            #alright so the silly geese at the MSU observatory drop the 2.4e6, but only in some of the files\n",
    "            #fix it\n",
    "            #this can be modified to check all of the files, but... it works for this\n",
    "            if i == 0 and j != 0:\n",
    "                if data['DATE'][0] <=2300000:\n",
    "                    adj_time = data['DATE'] + 2400000\n",
    "                    time.append(adj_time.to_list())\n",
    "                else:\n",
    "                    time.append(data['DATE'].to_list()) #don't forget to close the if loops!\n",
    "            else:        \n",
    "                time.append(data['DATE'].to_list())\n",
    "                \n",
    "            print(\"appending Vmag\")\n",
    "            Vmag.append(data['VMAG'].to_list())\n",
    "            \n",
    "            print(\"appending Verr\")\n",
    "            Verr.append(data['VERR'].to_list())\n",
    "            \n",
    "            print(\"---------{}----------\".format(filenum))\n",
    "            filenum += 1\n",
    "\n",
    "time = list(chain.from_iterable(time))\n",
    "Vmag = list(chain.from_iterable(Vmag))\n",
    "Verr = list(chain.from_iterable(Verr))"
   ]
  },
  {
   "cell_type": "code",
   "execution_count": 3,
   "metadata": {},
   "outputs": [
    {
     "data": {
      "text/plain": [
       "<matplotlib.collections.PathCollection at 0x7fc63e200198>"
      ]
     },
     "execution_count": 3,
     "metadata": {},
     "output_type": "execute_result"
    },
    {
     "data": {
      "image/png": "[encoded data removed]",
      "text/plain": [
       "<Figure size 432x288 with 1 Axes>"
      ]
     },
     "metadata": {
      "needs_background": "light"
     },
     "output_type": "display_data"
    }
   ],
   "source": [
    "#a prelim plot, the plt.xlims below take a peak at the two groupings of data\n",
    "plt.scatter(time, Vmag)\n",
    "#plt.xlim(2.45863055e6, 2.4586308e6) ##feature here is interesting\n",
    "#plt.xlim(2.45865e6, 2.45867e6)\n",
    "#plt.ylim(15.0, 16.00)"
   ]
  },
  {
   "cell_type": "code",
   "execution_count": 4,
   "metadata": {},
   "outputs": [],
   "source": [
    "#saving the fits files\n",
    "data = Table({'time (JD)': time,\n",
    "     'Vmag': Vmag,\n",
    "    'Verr': Verr},\n",
    "          names=['time (JD)', 'Vmag', 'Verr'])\n",
    "data.write(\"V339Del_compiled_unsorted.fits\", overwrite=False)\n",
    "data.sort('time (JD)')\n",
    "data.write(\"V339Del_compiled_sorted.fits\", overwrite=False)\n",
    "#this might work, maybe not. Elias would like a text file\n",
    "data.write(\"V339del_compiled_sorted.txt\", overwrite=False)"
   ]
  },
  {
   "cell_type": "code",
   "execution_count": 6,
   "metadata": {},
   "outputs": [
    {
     "data": {
      "text/plain": [
       "[<matplotlib.lines.Line2D at 0x7fc63dd3cb00>]"
      ]
     },
     "execution_count": 6,
     "metadata": {},
     "output_type": "execute_result"
    },
    {
     "data": {
      "image/png": "[encoded data removed]",
      "text/plain": [
       "<Figure size 432x288 with 1 Axes>"
      ]
     },
     "metadata": {
      "needs_background": "light"
     },
     "output_type": "display_data"
    }
   ],
   "source": [
    "#just to see that they are sorted\n",
    "plt.plot(data['time (JD)'], data['Vmag'])"
   ]
  },
  {
   "cell_type": "markdown",
   "metadata": {},
   "source": [
    "## Voila. Hope it's not buggy!\n"
   ]
  },
  {
   "cell_type": "code",
   "execution_count": null,
   "metadata": {},
   "outputs": [],
   "source": []
  }
 ],
 "metadata": {
  "kernelspec": {
   "display_name": "Python 3",
   "language": "python",
   "name": "python3"
  },
  "language_info": {
   "codemirror_mode": {
    "name": "ipython",
    "version": 3
   },
   "file_extension": ".py",
   "mimetype": "text/x-python",
   "name": "python",
   "nbconvert_exporter": "python",
   "pygments_lexer": "ipython3",
   "version": "3.7.3"
  }
 },
 "nbformat": 4,
 "nbformat_minor": 2
}
